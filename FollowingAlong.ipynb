{
 "cells": [
  {
   "cell_type": "markdown",
   "metadata": {},
   "source": [
    "### Analyze the data\n",
    "\n",
    "In the blog post I'm following it outputs the following information: \n",
    "\n",
    "```\n",
    "1823250 English words.\n",
    "227 unique English words.\n",
    "10 Most common words in the English dataset:\n",
    "\"is\" \",\" \".\" \"in\" \"it\" \"during\" \"the\" \"but\" \"and\" \"sometimes\"\n",
    "\n",
    "1961295 French words.\n",
    "355 unique French words.\n",
    "10 Most common words in the French dataset:\n",
    "\"est\" \".\" \",\" \"en\" \"il\" \"les\" \"mais\" \"et\" \"la\" \"parfois\"\n",
    "```\n",
    "\n",
    "I want to add how many phrases I hae but to generally create this output here"
   ]
  },
  {
   "cell_type": "code",
   "execution_count": 31,
   "metadata": {},
   "outputs": [],
   "source": [
    "import pandas as pd \n",
    "from tools import load_data"
   ]
  },
  {
   "cell_type": "code",
   "execution_count": 32,
   "metadata": {},
   "outputs": [],
   "source": [
    "data = load_data()"
   ]
  },
  {
   "cell_type": "code",
   "execution_count": 33,
   "metadata": {},
   "outputs": [
    {
     "data": {
      "text/html": [
       "<div>\n",
       "<style scoped>\n",
       "    .dataframe tbody tr th:only-of-type {\n",
       "        vertical-align: middle;\n",
       "    }\n",
       "\n",
       "    .dataframe tbody tr th {\n",
       "        vertical-align: top;\n",
       "    }\n",
       "\n",
       "    .dataframe thead th {\n",
       "        text-align: right;\n",
       "    }\n",
       "</style>\n",
       "<table border=\"1\" class=\"dataframe\">\n",
       "  <thead>\n",
       "    <tr style=\"text-align: right;\">\n",
       "      <th></th>\n",
       "      <th>english</th>\n",
       "      <th>french</th>\n",
       "      <th>french_tokens</th>\n",
       "      <th>english_tokens</th>\n",
       "      <th>english_bow</th>\n",
       "      <th>french_bow</th>\n",
       "      <th>eng_len</th>\n",
       "      <th>fren_len</th>\n",
       "      <th>english_padded</th>\n",
       "      <th>french_padded</th>\n",
       "    </tr>\n",
       "  </thead>\n",
       "  <tbody>\n",
       "    <tr>\n",
       "      <th>0</th>\n",
       "      <td>new jersey is sometimes quiet during autumn , ...</td>\n",
       "      <td>new jersey est parfois calme pendant l' automn...</td>\n",
       "      <td>[new, jersey, est, parfois, calme, pendant, l,...</td>\n",
       "      <td>[new, jersey, is, sometimes, quiet, during, au...</td>\n",
       "      <td>[8, 7, 5, 11, 9, 3, 2, 0, 6, 5, 10, 4, 1]</td>\n",
       "      <td>[10, 7, 4, 11, 2, 12, 8, 0, 5, 6, 4, 9, 3, 1]</td>\n",
       "      <td>13</td>\n",
       "      <td>14</td>\n",
       "      <td>[8, 7, 5, 11, 9, 3, 2, 0, 6, 5, 10, 4, 1, -1, ...</td>\n",
       "      <td>[10, 7, 4, 11, 2, 12, 8, 0, 5, 6, 4, 9, 3, 1, ...</td>\n",
       "    </tr>\n",
       "    <tr>\n",
       "      <th>1</th>\n",
       "      <td>the united states is usually chilly during jul...</td>\n",
       "      <td>les états-unis est généralement froid en juill...</td>\n",
       "      <td>[les, états, unis, est, généralement, froid, e...</td>\n",
       "      <td>[the, united, states, is, usually, chilly, dur...</td>\n",
       "      <td>[17, 18, 16, 5, 19, 12, 3, 14, 0, 6, 5, 19, 13...</td>\n",
       "      <td>[18, 21, 20, 4, 15, 13, 3, 17, 5, 6, 14, 16, 3...</td>\n",
       "      <td>15</td>\n",
       "      <td>14</td>\n",
       "      <td>[17, 18, 16, 5, 19, 12, 3, 14, 0, 6, 5, 19, 13...</td>\n",
       "      <td>[18, 21, 20, 4, 15, 13, 3, 17, 5, 6, 14, 16, 3...</td>\n",
       "    </tr>\n",
       "    <tr>\n",
       "      <th>2</th>\n",
       "      <td>california is usually quiet during march , and...</td>\n",
       "      <td>california est généralement calme en mars , et...</td>\n",
       "      <td>[california, est, généralement, calme, en, mar...</td>\n",
       "      <td>[california, is, usually, quiet, during, march...</td>\n",
       "      <td>[20, 5, 19, 9, 3, 23, 0, 6, 5, 19, 21, 4, 22]</td>\n",
       "      <td>[22, 4, 15, 2, 3, 25, 5, 6, 4, 15, 23, 3, 24]</td>\n",
       "      <td>13</td>\n",
       "      <td>13</td>\n",
       "      <td>[20, 5, 19, 9, 3, 23, 0, 6, 5, 19, 21, 4, 22, ...</td>\n",
       "      <td>[22, 4, 15, 2, 3, 25, 5, 6, 4, 15, 23, 3, 24, ...</td>\n",
       "    </tr>\n",
       "    <tr>\n",
       "      <th>3</th>\n",
       "      <td>the united states is sometimes mild during jun...</td>\n",
       "      <td>les états-unis est parfois légère en juin , et...</td>\n",
       "      <td>[les, états, unis, est, parfois, légère, en, j...</td>\n",
       "      <td>[the, united, states, is, sometimes, mild, dur...</td>\n",
       "      <td>[17, 18, 16, 5, 11, 25, 3, 22, 0, 6, 5, 24, 4,...</td>\n",
       "      <td>[18, 21, 20, 4, 11, 27, 3, 24, 5, 6, 26, 13, 3...</td>\n",
       "      <td>14</td>\n",
       "      <td>14</td>\n",
       "      <td>[17, 18, 16, 5, 11, 25, 3, 22, 0, 6, 5, 24, 4,...</td>\n",
       "      <td>[18, 21, 20, 4, 11, 27, 3, 24, 5, 6, 26, 13, 3...</td>\n",
       "    </tr>\n",
       "    <tr>\n",
       "      <th>4</th>\n",
       "      <td>your least liked fruit is the grape , but my l...</td>\n",
       "      <td>votre moins aimé fruit est le raisin , mais mo...</td>\n",
       "      <td>[votre, moins, aimé, fruit, est, le, raisin, m...</td>\n",
       "      <td>[your, least, liked, fruit, is, the, grape, bu...</td>\n",
       "      <td>[34, 31, 32, 29, 5, 17, 30, 28, 33, 31, 32, 5,...</td>\n",
       "      <td>[38, 34, 29, 30, 4, 32, 37, 33, 35, 34, 29, 4,...</td>\n",
       "      <td>14</td>\n",
       "      <td>14</td>\n",
       "      <td>[34, 31, 32, 29, 5, 17, 30, 28, 33, 31, 32, 5,...</td>\n",
       "      <td>[38, 34, 29, 30, 4, 32, 37, 33, 35, 34, 29, 4,...</td>\n",
       "    </tr>\n",
       "  </tbody>\n",
       "</table>\n",
       "</div>"
      ],
      "text/plain": [
       "                                             english  \\\n",
       "0  new jersey is sometimes quiet during autumn , ...   \n",
       "1  the united states is usually chilly during jul...   \n",
       "2  california is usually quiet during march , and...   \n",
       "3  the united states is sometimes mild during jun...   \n",
       "4  your least liked fruit is the grape , but my l...   \n",
       "\n",
       "                                              french  \\\n",
       "0  new jersey est parfois calme pendant l' automn...   \n",
       "1  les états-unis est généralement froid en juill...   \n",
       "2  california est généralement calme en mars , et...   \n",
       "3  les états-unis est parfois légère en juin , et...   \n",
       "4  votre moins aimé fruit est le raisin , mais mo...   \n",
       "\n",
       "                                       french_tokens  \\\n",
       "0  [new, jersey, est, parfois, calme, pendant, l,...   \n",
       "1  [les, états, unis, est, généralement, froid, e...   \n",
       "2  [california, est, généralement, calme, en, mar...   \n",
       "3  [les, états, unis, est, parfois, légère, en, j...   \n",
       "4  [votre, moins, aimé, fruit, est, le, raisin, m...   \n",
       "\n",
       "                                      english_tokens  \\\n",
       "0  [new, jersey, is, sometimes, quiet, during, au...   \n",
       "1  [the, united, states, is, usually, chilly, dur...   \n",
       "2  [california, is, usually, quiet, during, march...   \n",
       "3  [the, united, states, is, sometimes, mild, dur...   \n",
       "4  [your, least, liked, fruit, is, the, grape, bu...   \n",
       "\n",
       "                                         english_bow  \\\n",
       "0          [8, 7, 5, 11, 9, 3, 2, 0, 6, 5, 10, 4, 1]   \n",
       "1  [17, 18, 16, 5, 19, 12, 3, 14, 0, 6, 5, 19, 13...   \n",
       "2      [20, 5, 19, 9, 3, 23, 0, 6, 5, 19, 21, 4, 22]   \n",
       "3  [17, 18, 16, 5, 11, 25, 3, 22, 0, 6, 5, 24, 4,...   \n",
       "4  [34, 31, 32, 29, 5, 17, 30, 28, 33, 31, 32, 5,...   \n",
       "\n",
       "                                          french_bow  eng_len  fren_len  \\\n",
       "0      [10, 7, 4, 11, 2, 12, 8, 0, 5, 6, 4, 9, 3, 1]       13        14   \n",
       "1  [18, 21, 20, 4, 15, 13, 3, 17, 5, 6, 14, 16, 3...       15        14   \n",
       "2      [22, 4, 15, 2, 3, 25, 5, 6, 4, 15, 23, 3, 24]       13        13   \n",
       "3  [18, 21, 20, 4, 11, 27, 3, 24, 5, 6, 26, 13, 3...       14        14   \n",
       "4  [38, 34, 29, 30, 4, 32, 37, 33, 35, 34, 29, 4,...       14        14   \n",
       "\n",
       "                                      english_padded  \\\n",
       "0  [8, 7, 5, 11, 9, 3, 2, 0, 6, 5, 10, 4, 1, -1, ...   \n",
       "1  [17, 18, 16, 5, 19, 12, 3, 14, 0, 6, 5, 19, 13...   \n",
       "2  [20, 5, 19, 9, 3, 23, 0, 6, 5, 19, 21, 4, 22, ...   \n",
       "3  [17, 18, 16, 5, 11, 25, 3, 22, 0, 6, 5, 24, 4,...   \n",
       "4  [34, 31, 32, 29, 5, 17, 30, 28, 33, 31, 32, 5,...   \n",
       "\n",
       "                                       french_padded  \n",
       "0  [10, 7, 4, 11, 2, 12, 8, 0, 5, 6, 4, 9, 3, 1, ...  \n",
       "1  [18, 21, 20, 4, 15, 13, 3, 17, 5, 6, 14, 16, 3...  \n",
       "2  [22, 4, 15, 2, 3, 25, 5, 6, 4, 15, 23, 3, 24, ...  \n",
       "3  [18, 21, 20, 4, 11, 27, 3, 24, 5, 6, 26, 13, 3...  \n",
       "4  [38, 34, 29, 30, 4, 32, 37, 33, 35, 34, 29, 4,...  "
      ]
     },
     "execution_count": 33,
     "metadata": {},
     "output_type": "execute_result"
    }
   ],
   "source": [
    "data.head()"
   ]
  },
  {
   "cell_type": "code",
   "execution_count": 29,
   "metadata": {},
   "outputs": [
    {
     "data": {
      "text/plain": [
       "str"
      ]
     },
     "execution_count": 29,
     "metadata": {},
     "output_type": "execute_result"
    }
   ],
   "source": [
    "type(data['french_bow'][0][0])"
   ]
  },
  {
   "cell_type": "code",
   "execution_count": 4,
   "metadata": {},
   "outputs": [],
   "source": [
    "from collections import Counter"
   ]
  },
  {
   "cell_type": "code",
   "execution_count": 15,
   "metadata": {},
   "outputs": [],
   "source": [
    "tokens = data['english_tokens'].apply(lambda x: x.strip(\"['']\").split(\"', '\"))"
   ]
  },
  {
   "cell_type": "code",
   "execution_count": 18,
   "metadata": {},
   "outputs": [
    {
     "data": {
      "text/plain": [
       "['new',\n",
       " 'jersey',\n",
       " 'is',\n",
       " 'sometimes',\n",
       " 'quiet',\n",
       " 'during',\n",
       " 'autumn',\n",
       " 'and',\n",
       " 'it',\n",
       " 'is',\n",
       " 'snowy',\n",
       " 'in',\n",
       " 'april']"
      ]
     },
     "execution_count": 18,
     "metadata": {},
     "output_type": "execute_result"
    }
   ],
   "source": [
    "tokens[0]"
   ]
  },
  {
   "cell_type": "code",
   "execution_count": null,
   "metadata": {},
   "outputs": [],
   "source": []
  }
 ],
 "metadata": {
  "kernelspec": {
   "display_name": "TranslatorNet",
   "language": "python",
   "name": "translatornet"
  },
  "language_info": {
   "codemirror_mode": {
    "name": "ipython",
    "version": 3
   },
   "file_extension": ".py",
   "mimetype": "text/x-python",
   "name": "python",
   "nbconvert_exporter": "python",
   "pygments_lexer": "ipython3",
   "version": "3.7.4"
  }
 },
 "nbformat": 4,
 "nbformat_minor": 4
}
